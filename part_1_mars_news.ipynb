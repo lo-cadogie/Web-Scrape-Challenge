{
 "cells": [
  {
   "cell_type": "markdown",
   "metadata": {},
   "source": [
    "# Module 12 Challenge\n",
    "## Deliverable 1: Scrape Titles and Preview Text from Mars News"
   ]
  },
  {
   "cell_type": "code",
   "execution_count": 1,
   "metadata": {},
   "outputs": [],
   "source": [
    "# Import Splinter and BeautifulSoup\n",
    "from splinter import Browser\n",
    "from bs4 import BeautifulSoup\n",
    "from webdriver_manager.chrome import ChromeDriverManager\n",
    "\n",
    "#Imports used for exporting\n",
    "import json\n",
    "import pymongo"
   ]
  },
  {
   "cell_type": "code",
   "execution_count": 2,
   "metadata": {
    "scrolled": true
   },
   "outputs": [],
   "source": [
    "executable_path = {'executable_path': ChromeDriverManager().install()}\n",
    "browser = Browser('chrome', **executable_path, headless=False)"
   ]
  },
  {
   "cell_type": "markdown",
   "metadata": {},
   "source": [
    "### Step 1: Visit the Website\n",
    "\n",
    "1. Use automated browsing to visit the [Mars NASA news site](https://redplanetscience.com). Inspect the page to identify which elements to scrape.\n",
    "\n",
    "      > **Hint** To identify which elements to scrape, you might want to inspect the page by using Chrome DevTools."
   ]
  },
  {
   "cell_type": "code",
   "execution_count": 3,
   "metadata": {},
   "outputs": [],
   "source": [
    "# Visit the Mars NASA news site: https://redplanetscience.com\n",
    "url = 'https://redplanetscience.com/'\n",
    "\n",
    "browser.visit(url)"
   ]
  },
  {
   "cell_type": "markdown",
   "metadata": {},
   "source": [
    "### Step 2: Scrape the Website\n",
    "\n",
    "Create a Beautiful Soup object and use it to extract text elements from the website."
   ]
  },
  {
   "cell_type": "code",
   "execution_count": 4,
   "metadata": {},
   "outputs": [
    {
     "name": "stdout",
     "output_type": "stream",
     "text": [
      "Q&A with the Student Who Named Ingenuity, NASA's Mars Helicopter\n",
      "As a longtime fan of space exploration, Vaneeza Rupani appreciates the creativity and collaboration involved with trying to fly on another planet.\n",
      "----------\n",
      "3 Things We've Learned From NASA's Mars InSight \n",
      "Scientists are finding new mysteries since the geophysics mission landed two years ago.\n",
      "----------\n",
      "The Man Who Wanted to Fly on Mars\n",
      "The Mars Helicopter is riding to the Red Planet this summer with NASA's Perseverance rover. The helicopter's chief engineer, Bob Balaram, shares the saga of how it came into being.\n",
      "----------\n",
      "NASA to Hold Mars 2020 Perseverance Rover Launch Briefing\n",
      "Learn more about the agency's next Red Planet mission during a live event on June 17.\n",
      "----------\n",
      "NASA's Perseverance Rover 100 Days Out\n",
      "Mark your calendars: The agency's latest rover has only about 8,640,000 seconds to go before it touches down on the Red Planet, becoming history's next Mars car.\n",
      "----------\n",
      "NASA's MAVEN Maps Winds in the Martian Upper Atmosphere that Mirror the Terrain Below and Gives Clues to Martian Climate\n",
      "Researchers have created the first map of wind circulation in the upper atmosphere of a planet besides Earth, using data from NASA’s MAVEN spacecraft that were collected during the last two years.\n",
      "----------\n",
      "Alabama High School Student Names NASA's Mars Helicopter\n",
      "Vaneeza Rupani's essay was chosen as the name for the small spacecraft, which will mark NASA's first attempt at powered flight on another planet.\n",
      "----------\n",
      "The MarCO Mission Comes to an End\n",
      "The pair of briefcase-sized satellites made history when they sailed past Mars in 2019.\n",
      "----------\n",
      "New Selfie Shows Curiosity, the Mars Chemist\n",
      "The NASA rover performed a special chemistry experiment at the location captured in its newest self-portrait.\n",
      "----------\n",
      "NASA InSight's 'Mole' Is Out of Sight\n",
      "Now that the heat probe is just below the Martian surface, InSight's arm will scoop some additional soil on top to help it keep digging so it can take Mars' temperature.\n",
      "----------\n",
      "NASA's Push to Save the Mars InSight Lander's Heat Probe\n",
      "The scoop on the end of the spacecraft's robotic arm will be used to 'pin' the mole against the wall of its hole.\n",
      "----------\n",
      "NASA-JPL Names 'Rolling Stones Rock' on Mars\n",
      "NASA's Mars InSight mission honored one of the biggest bands of all time at Pasadena concert.\n",
      "----------\n",
      "NASA Invites Public to Share Excitement of Mars 2020 Perseverance Rover Launch\n",
      "There are lots of ways to participate in the historic event, which is targeted for July 30.\n",
      "----------\n",
      "Meet the People Behind NASA's Perseverance Rover\n",
      "These are the scientists and engineers who built NASA's next Mars rover and who will guide it to a safe landing in Jezero Crater. \n",
      "----------\n",
      "Nine Finalists Chosen in NASA's Mars 2020 Rover Naming Contest\n",
      "Nine finalists have been chosen in the essay contest for K-12 students across U.S. to name NASA's next Mars rover. Now you can help by voting for your favorite. \n",
      "----------\n"
     ]
    }
   ],
   "source": [
    "# Create a Beautiful Soup object\n",
    "html = browser.html\n",
    "soup = BeautifulSoup(html, 'html.parser')\n",
    "\n",
    "sections = soup.find_all('div', class_ = 'col-md-8')\n",
    "\n",
    "for x in sections:\n",
    "    title = x.find('div', class_='content_title').text\n",
    "    preview_text = x.find('div', class_='article_teaser_body').text\n",
    "    print(title)\n",
    "    print(preview_text)\n",
    "    print('----------')\n",
    "\n",
    "    "
   ]
  },
  {
   "cell_type": "markdown",
   "metadata": {},
   "source": [
    "### Step 3: Store the Results\n",
    "\n",
    "Extract the titles and preview text of the news articles that you scraped. Store the scraping results in Python data structures as follows:\n",
    "\n",
    "* Store each title-and-preview pair in a Python dictionary. And, give each dictionary two keys: `title` and `preview`. An example is the following:\n",
    "\n",
    "  ```python\n",
    "  {'title': \"Mars Rover Begins Mission!\", \n",
    "        'preview': \"NASA's Mars Rover begins a multiyear mission to collect data about the little-explored planet.\"}\n",
    "  ```\n",
    "\n",
    "* Store all the dictionaries in a Python list.\n",
    "\n",
    "* Print the list in your notebook."
   ]
  },
  {
   "cell_type": "code",
   "execution_count": 5,
   "metadata": {},
   "outputs": [],
   "source": [
    "# Create an empty list to store the dictionaries\n",
    "mars_dict_list = []\n"
   ]
  },
  {
   "cell_type": "code",
   "execution_count": 6,
   "metadata": {},
   "outputs": [],
   "source": [
    "# Loop through the text elements\n",
    "for x in sections:\n",
    "    \n",
    "    # Extract the title and preview text from the elements\n",
    "    title = x.find('div', class_='content_title').text\n",
    "    preview_text = x.find('div', class_='article_teaser_body').text\n",
    "    \n",
    "    # Store each title and preview pair in a dictionary\n",
    "    new_dict = {\n",
    "        'title' : title,\n",
    "        'preview' : preview_text\n",
    "        }\n",
    "    \n",
    "    # Add the dictionary to the list\n",
    "    mars_dict_list.append(new_dict)\n"
   ]
  },
  {
   "cell_type": "code",
   "execution_count": 7,
   "metadata": {},
   "outputs": [
    {
     "data": {
      "text/plain": [
       "[{'title': \"Q&A with the Student Who Named Ingenuity, NASA's Mars Helicopter\",\n",
       "  'preview': 'As a longtime fan of space exploration, Vaneeza Rupani appreciates the creativity and collaboration involved with trying to fly on another planet.'},\n",
       " {'title': \"3 Things We've Learned From NASA's Mars InSight \",\n",
       "  'preview': 'Scientists are finding new mysteries since the geophysics mission landed two years ago.'},\n",
       " {'title': 'The Man Who Wanted to Fly on Mars',\n",
       "  'preview': \"The Mars Helicopter is riding to the Red Planet this summer with NASA's Perseverance rover. The helicopter's chief engineer, Bob Balaram, shares the saga of how it came into being.\"},\n",
       " {'title': 'NASA to Hold Mars 2020 Perseverance Rover Launch Briefing',\n",
       "  'preview': \"Learn more about the agency's next Red Planet mission during a live event on June 17.\"},\n",
       " {'title': \"NASA's Perseverance Rover 100 Days Out\",\n",
       "  'preview': \"Mark your calendars: The agency's latest rover has only about 8,640,000 seconds to go before it touches down on the Red Planet, becoming history's next Mars car.\"},\n",
       " {'title': \"NASA's MAVEN Maps Winds in the Martian Upper Atmosphere that Mirror the Terrain Below and Gives Clues to Martian Climate\",\n",
       "  'preview': 'Researchers have created the first map of wind circulation in the upper atmosphere of a planet besides Earth, using data from NASA’s MAVEN spacecraft that were collected during the last two years.'},\n",
       " {'title': \"Alabama High School Student Names NASA's Mars Helicopter\",\n",
       "  'preview': \"Vaneeza Rupani's essay was chosen as the name for the small spacecraft, which will mark NASA's first attempt at powered flight on another planet.\"},\n",
       " {'title': 'The MarCO Mission Comes to an End',\n",
       "  'preview': 'The pair of briefcase-sized satellites made history when they sailed past Mars in 2019.'},\n",
       " {'title': 'New Selfie Shows Curiosity, the Mars Chemist',\n",
       "  'preview': 'The NASA rover performed a special chemistry experiment at the location captured in its newest self-portrait.'},\n",
       " {'title': \"NASA InSight's 'Mole' Is Out of Sight\",\n",
       "  'preview': \"Now that the heat probe is just below the Martian surface, InSight's arm will scoop some additional soil on top to help it keep digging so it can take Mars' temperature.\"},\n",
       " {'title': \"NASA's Push to Save the Mars InSight Lander's Heat Probe\",\n",
       "  'preview': \"The scoop on the end of the spacecraft's robotic arm will be used to 'pin' the mole against the wall of its hole.\"},\n",
       " {'title': \"NASA-JPL Names 'Rolling Stones Rock' on Mars\",\n",
       "  'preview': \"NASA's Mars InSight mission honored one of the biggest bands of all time at Pasadena concert.\"},\n",
       " {'title': 'NASA Invites Public to Share Excitement of Mars 2020 Perseverance Rover Launch',\n",
       "  'preview': 'There are lots of ways to participate in the historic event, which is targeted for July 30.'},\n",
       " {'title': \"Meet the People Behind NASA's Perseverance Rover\",\n",
       "  'preview': \"These are the scientists and engineers who built NASA's next Mars rover and who will guide it to a safe landing in Jezero Crater. \"},\n",
       " {'title': \"Nine Finalists Chosen in NASA's Mars 2020 Rover Naming Contest\",\n",
       "  'preview': \"Nine finalists have been chosen in the essay contest for K-12 students across U.S. to name NASA's next Mars rover. Now you can help by voting for your favorite. \"}]"
      ]
     },
     "execution_count": 7,
     "metadata": {},
     "output_type": "execute_result"
    }
   ],
   "source": [
    "# Print the list to confirm success\n",
    "mars_dict_list"
   ]
  },
  {
   "cell_type": "code",
   "execution_count": 8,
   "metadata": {},
   "outputs": [],
   "source": [
    "browser.quit()"
   ]
  },
  {
   "cell_type": "markdown",
   "metadata": {},
   "source": [
    "### (Optional) Step 4: Export the Data\n",
    "\n",
    "Optionally, store the scraped data in a file or database (to ease sharing the data with others). To do so, export the scraped data to either a JSON file or a MongoDB database."
   ]
  },
  {
   "cell_type": "code",
   "execution_count": 9,
   "metadata": {},
   "outputs": [
    {
     "name": "stdout",
     "output_type": "stream",
     "text": [
      "[\n",
      "  {\n",
      "    \"title\": \"Q&A with the Student Who Named Ingenuity, NASA's Mars Helicopter\",\n",
      "    \"preview\": \"As a longtime fan of space exploration, Vaneeza Rupani appreciates the creativity and collaboration involved with trying to fly on another planet.\"\n",
      "  },\n",
      "  {\n",
      "    \"title\": \"3 Things We've Learned From NASA's Mars InSight \",\n",
      "    \"preview\": \"Scientists are finding new mysteries since the geophysics mission landed two years ago.\"\n",
      "  },\n",
      "  {\n",
      "    \"title\": \"The Man Who Wanted to Fly on Mars\",\n",
      "    \"preview\": \"The Mars Helicopter is riding to the Red Planet this summer with NASA's Perseverance rover. The helicopter's chief engineer, Bob Balaram, shares the saga of how it came into being.\"\n",
      "  },\n",
      "  {\n",
      "    \"title\": \"NASA to Hold Mars 2020 Perseverance Rover Launch Briefing\",\n",
      "    \"preview\": \"Learn more about the agency's next Red Planet mission during a live event on June 17.\"\n",
      "  },\n",
      "  {\n",
      "    \"title\": \"NASA's Perseverance Rover 100 Days Out\",\n",
      "    \"preview\": \"Mark your calendars: The agency's latest rover has only about 8,640,000 seconds to go before it touches down on the Red Planet, becoming history's next Mars car.\"\n",
      "  },\n",
      "  {\n",
      "    \"title\": \"NASA's MAVEN Maps Winds in the Martian Upper Atmosphere that Mirror the Terrain Below and Gives Clues to Martian Climate\",\n",
      "    \"preview\": \"Researchers have created the first map of wind circulation in the upper atmosphere of a planet besides Earth, using data from NASA\\u2019s MAVEN spacecraft that were collected during the last two years.\"\n",
      "  },\n",
      "  {\n",
      "    \"title\": \"Alabama High School Student Names NASA's Mars Helicopter\",\n",
      "    \"preview\": \"Vaneeza Rupani's essay was chosen as the name for the small spacecraft, which will mark NASA's first attempt at powered flight on another planet.\"\n",
      "  },\n",
      "  {\n",
      "    \"title\": \"The MarCO Mission Comes to an End\",\n",
      "    \"preview\": \"The pair of briefcase-sized satellites made history when they sailed past Mars in 2019.\"\n",
      "  },\n",
      "  {\n",
      "    \"title\": \"New Selfie Shows Curiosity, the Mars Chemist\",\n",
      "    \"preview\": \"The NASA rover performed a special chemistry experiment at the location captured in its newest self-portrait.\"\n",
      "  },\n",
      "  {\n",
      "    \"title\": \"NASA InSight's 'Mole' Is Out of Sight\",\n",
      "    \"preview\": \"Now that the heat probe is just below the Martian surface, InSight's arm will scoop some additional soil on top to help it keep digging so it can take Mars' temperature.\"\n",
      "  },\n",
      "  {\n",
      "    \"title\": \"NASA's Push to Save the Mars InSight Lander's Heat Probe\",\n",
      "    \"preview\": \"The scoop on the end of the spacecraft's robotic arm will be used to 'pin' the mole against the wall of its hole.\"\n",
      "  },\n",
      "  {\n",
      "    \"title\": \"NASA-JPL Names 'Rolling Stones Rock' on Mars\",\n",
      "    \"preview\": \"NASA's Mars InSight mission honored one of the biggest bands of all time at Pasadena concert.\"\n",
      "  },\n",
      "  {\n",
      "    \"title\": \"NASA Invites Public to Share Excitement of Mars 2020 Perseverance Rover Launch\",\n",
      "    \"preview\": \"There are lots of ways to participate in the historic event, which is targeted for July 30.\"\n",
      "  },\n",
      "  {\n",
      "    \"title\": \"Meet the People Behind NASA's Perseverance Rover\",\n",
      "    \"preview\": \"These are the scientists and engineers who built NASA's next Mars rover and who will guide it to a safe landing in Jezero Crater. \"\n",
      "  },\n",
      "  {\n",
      "    \"title\": \"Nine Finalists Chosen in NASA's Mars 2020 Rover Naming Contest\",\n",
      "    \"preview\": \"Nine finalists have been chosen in the essay contest for K-12 students across U.S. to name NASA's next Mars rover. Now you can help by voting for your favorite. \"\n",
      "  }\n",
      "]\n"
     ]
    }
   ],
   "source": [
    "# Preview data to JSON\n",
    "mars_json_file = json.dumps(mars_dict_list, indent = 2)\n",
    "print(mars_json_file)\n",
    "\n",
    "# Export data to JSON\n",
    "with open('mars_scrape.json', 'w') as json_file:\n",
    "    json.dump(mars_dict_list, json_file)"
   ]
  },
  {
   "cell_type": "code",
   "execution_count": 10,
   "metadata": {},
   "outputs": [],
   "source": [
    "# Export data to MongoDB\n",
    "conn = 'mongodb://localhost:27017'\n",
    "client = pymongo.MongoClient(conn)\n",
    "\n",
    "# Define database and collection\n",
    "db = client.mars_db\n",
    "collection = db.mars_scrape\n",
    "\n",
    "# Insert each dictionary into MongoDB as a document\n",
    "for x in mars_dict_list:\n",
    "    collection.insert_one(x)\n",
    "\n"
   ]
  },
  {
   "cell_type": "code",
   "execution_count": 11,
   "metadata": {},
   "outputs": [
    {
     "name": "stdout",
     "output_type": "stream",
     "text": [
      "{'_id': ObjectId('63ac9d6c1a0564db742e5e44'), 'title': \"Three New Views of Mars' Moon Phobos\", 'preview': \"Taken with the infrared camera aboard NASA's Odyssey orbiter, they reveal temperature variations on the small moon as it drifts into and out of Mars’ shadow.\"}\n",
      "{'_id': ObjectId('63ac9d6c1a0564db742e5e45'), 'title': 'AI Is Helping Scientists Discover Fresh Craters on Mars', 'preview': \"It's the first time machine learning has been used to find previously unknown craters on the Red Planet.\"}\n",
      "{'_id': ObjectId('63ac9d6c1a0564db742e5e46'), 'title': 'Join NASA for the Launch of the Mars 2020 Perseverance Rover', 'preview': 'No matter where you live, choose from a menu of activities to join NASA as we \"Countdown to Mars\" and launch the Perseverance rover to the Red Planet.'}\n",
      "{'_id': ObjectId('63ac9d6c1a0564db742e5e47'), 'title': \"NASA's Perseverance Rover Is Midway to Mars \", 'preview': \"Sometimes half measures can be a good thing – especially on a journey this long. The agency's latest rover only has about 146 million miles left to reach its destination.\"}\n",
      "{'_id': ObjectId('63ac9d6c1a0564db742e5e48'), 'title': \"NASA's Mars Reconnaissance Orbiter Undergoes Memory Update\", 'preview': 'Other orbiters will continue relaying data from Mars surface missions for a two-week period.'}\n",
      "{'_id': ObjectId('63ac9d6c1a0564db742e5e49'), 'title': \"NASA's Perseverance Rover Goes Through Trials by Fire, Ice, Light and Sound\", 'preview': \"The agency's new Mars rover is put through a series of tests in vacuum chambers, acoustic chambers and more to get ready for the Red Planet.\"}\n",
      "{'_id': ObjectId('63ac9d6c1a0564db742e5e4a'), 'title': 'NASA Prepares for Moon and Mars With New Addition to Its Deep Space Network', 'preview': 'Robotic spacecraft will be able to communicate with the dish using radio waves and lasers.'}\n",
      "{'_id': ObjectId('63ac9d6c1a0564db742e5e4b'), 'title': \"NASA's Perseverance Rover Mission Getting in Shape for Launch\", 'preview': 'Stacking spacecraft components on top of each other is one of the final assembly steps before a mission launches to the Red Planet. '}\n",
      "{'_id': ObjectId('63ac9d6c1a0564db742e5e4c'), 'title': \"From JPL's Mailroom to Mars and Beyond\", 'preview': 'Bill Allen has thrived as the mechanical systems design lead for three Mars rover missions, but he got his start as a teenager sorting letters for the NASA center.'}\n",
      "{'_id': ObjectId('63ac9d6c1a0564db742e5e4d'), 'title': 'Global Storms on Mars Launch Dust Towers Into the Sky', 'preview': 'A Mars Dust Tower Stands Out Dust storms are common on Mars. But every decade or so, something unpredictable happens: a series of runaway storms break out, covering the entire planet in a dusty haze.'}\n",
      "{'_id': ObjectId('63ac9d6c1a0564db742e5e4e'), 'title': \"3 Things We've Learned From NASA's Mars InSight \", 'preview': 'Scientists are finding new mysteries since the geophysics mission landed two years ago.'}\n",
      "{'_id': ObjectId('63ac9d6c1a0564db742e5e4f'), 'title': 'NASA to Hold Mars 2020 Perseverance Rover Launch Briefing', 'preview': \"Learn more about the agency's next Red Planet mission during a live event on June 17.\"}\n",
      "{'_id': ObjectId('63ac9d6c1a0564db742e5e50'), 'title': \"Newfound Martian Aurora Actually the Most Common; Sheds Light on Mars' Changing Climate\", 'preview': 'A type of Martian aurora first identified by NASA’s MAVEN spacecraft in 2016 is actually the most common form of aurora occurring on the Red Planet, according to new results from the mission.'}\n",
      "{'_id': ObjectId('63ac9d6c1a0564db742e5e51'), 'title': 'NASA Perseverance Mars Rover Scientists Train in the Nevada Desert', 'preview': \"Team members searched for signs of ancient microscopic life there, just as NASA's latest rover will on the Red Planet next year.\"}\n",
      "{'_id': ObjectId('63ac9d6c1a0564db742e5e52'), 'title': 'Sensors on Mars 2020 Spacecraft Answer Long-Distance Call From Earth', 'preview': \"Instruments tailored to collect data during the descent of NASA's next rover through the Red Planet's atmosphere have been checked in flight.\"}\n",
      "{'_id': ObjectId('63b30323c1d059305dff9036'), 'title': \"Hear Audio From NASA's Perseverance As It Travels Through Deep Space\", 'preview': \"The first to be rigged with microphones, the agency's latest Mars rover picked up the subtle sounds of its own inner workings during interplanetary flight.\"}\n",
      "{'_id': ObjectId('63b30323c1d059305dff9037'), 'title': \"NASA's Mars Perseverance Rover Gets Its Sample Handling System\", 'preview': 'The system will be collecting and storing Martian rock and soil. Its installation marks another milestone in the march toward the July launch period.'}\n",
      "{'_id': ObjectId('63b30323c1d059305dff9038'), 'title': 'NASA to Reveal Name of Its Next Mars Rover', 'preview': \"After a months-long contest among students to name NASA's newest Mars rover, the agency will reveal the winning name — and the winning student — this Thursday. \"}\n",
      "{'_id': ObjectId('63b30323c1d059305dff9039'), 'title': 'Two Rovers to Roll on Mars Again: Curiosity and Mars 2020', 'preview': 'They look like twins. But under the hood, the rover currently exploring the Red Planet and the one launching there this summer have distinct science tools and roles to play.'}\n",
      "{'_id': ObjectId('63b30323c1d059305dff903a'), 'title': \"NASA's Ingenuity Mars Helicopter Recharges Its Batteries in Flight\", 'preview': 'Headed to the Red Planet with the Perseverance rover, the pioneering helicopter is powered up for the first time in interplanetary space as part of a systems check.'}\n",
      "{'_id': ObjectId('63b30323c1d059305dff903b'), 'title': \"Mars Helicopter Attached to NASA's Perseverance Rover\", 'preview': \"The team also fueled the rover's sky crane to get ready for this summer's history-making launch.\"}\n",
      "{'_id': ObjectId('63b30323c1d059305dff903c'), 'title': 'Join NASA for the Launch of the Mars 2020 Perseverance Rover', 'preview': 'No matter where you live, choose from a menu of activities to join NASA as we \"Countdown to Mars\" and launch the Perseverance rover to the Red Planet.'}\n",
      "{'_id': ObjectId('63b30323c1d059305dff903d'), 'title': \"A Year of Surprising Science From NASA's InSight Mars Mission\", 'preview': \"A batch of new papers summarizes the lander's findings above and below the surface of the Red Planet.\"}\n",
      "{'_id': ObjectId('63b30323c1d059305dff903e'), 'title': 'NASA Mars Mission Connects With Bosnian and Herzegovinian Town', 'preview': 'A letter from NASA was presented to the mayor of Jezero, Bosnia-Herzegovina, honoring the connection between the town and Jezero Crater, the Mars 2020 rover landing site.'}\n",
      "{'_id': ObjectId('63b30323c1d059305dff903f'), 'title': 'NASA Wins Two Emmy Awards for Interactive Mission Coverage', 'preview': \"NASA-JPL's coverage of the Mars InSight landing earns one of the two wins, making this the NASA center's second Emmy.\"}\n",
      "{'_id': ObjectId('63b30323c1d059305dff9040'), 'title': \"NASA's Mars 2020 Comes Full Circle\", 'preview': \"Aiming to pinpoint the Martian vehicle's center of gravity, engineers took NASA's 2,300-pound Mars 2020 rover for a spin in the clean room at JPL. \"}\n",
      "{'_id': ObjectId('63b30323c1d059305dff9041'), 'title': \"5 Hidden Gems Are Riding Aboard NASA's Perseverance Rover\", 'preview': \"The symbols, mottos, and small objects added to the agency's newest Mars rover serve a variety of purposes, from functional to decorative.\"}\n",
      "{'_id': ObjectId('63b30323c1d059305dff9042'), 'title': 'NASA Administrator Statement on Moon to Mars Initiative, FY 2021 Budget', 'preview': \"Jim Bridenstine addresses NASA's ambitious plans for the coming years, including Mars Sample Return.\"}\n",
      "{'_id': ObjectId('63b30323c1d059305dff9043'), 'title': 'NASA Adds Return Sample Scientists to Mars 2020 Leadership Team', 'preview': 'The leadership council for Mars 2020 science added two new members who represent the interests of scientists destined to handle and study the first samples from Red Planet.'}\n",
      "{'_id': ObjectId('63b30323c1d059305dff9044'), 'title': \"Nine Finalists Chosen in NASA's Mars 2020 Rover Naming Contest\", 'preview': \"Nine finalists have been chosen in the essay contest for K-12 students across U.S. to name NASA's next Mars rover. Now you can help by voting for your favorite. \"}\n",
      "{'_id': ObjectId('63b329a09bf931db7ec7f900'), 'title': \"Q&A with the Student Who Named Ingenuity, NASA's Mars Helicopter\", 'preview': 'As a longtime fan of space exploration, Vaneeza Rupani appreciates the creativity and collaboration involved with trying to fly on another planet.'}\n",
      "{'_id': ObjectId('63b329a09bf931db7ec7f901'), 'title': \"3 Things We've Learned From NASA's Mars InSight \", 'preview': 'Scientists are finding new mysteries since the geophysics mission landed two years ago.'}\n",
      "{'_id': ObjectId('63b329a09bf931db7ec7f902'), 'title': 'The Man Who Wanted to Fly on Mars', 'preview': \"The Mars Helicopter is riding to the Red Planet this summer with NASA's Perseverance rover. The helicopter's chief engineer, Bob Balaram, shares the saga of how it came into being.\"}\n",
      "{'_id': ObjectId('63b329a09bf931db7ec7f903'), 'title': 'NASA to Hold Mars 2020 Perseverance Rover Launch Briefing', 'preview': \"Learn more about the agency's next Red Planet mission during a live event on June 17.\"}\n",
      "{'_id': ObjectId('63b329a09bf931db7ec7f904'), 'title': \"NASA's Perseverance Rover 100 Days Out\", 'preview': \"Mark your calendars: The agency's latest rover has only about 8,640,000 seconds to go before it touches down on the Red Planet, becoming history's next Mars car.\"}\n",
      "{'_id': ObjectId('63b329a09bf931db7ec7f905'), 'title': \"NASA's MAVEN Maps Winds in the Martian Upper Atmosphere that Mirror the Terrain Below and Gives Clues to Martian Climate\", 'preview': 'Researchers have created the first map of wind circulation in the upper atmosphere of a planet besides Earth, using data from NASA’s MAVEN spacecraft that were collected during the last two years.'}\n",
      "{'_id': ObjectId('63b329a09bf931db7ec7f906'), 'title': \"Alabama High School Student Names NASA's Mars Helicopter\", 'preview': \"Vaneeza Rupani's essay was chosen as the name for the small spacecraft, which will mark NASA's first attempt at powered flight on another planet.\"}\n",
      "{'_id': ObjectId('63b329a09bf931db7ec7f907'), 'title': 'The MarCO Mission Comes to an End', 'preview': 'The pair of briefcase-sized satellites made history when they sailed past Mars in 2019.'}\n",
      "{'_id': ObjectId('63b329a09bf931db7ec7f908'), 'title': 'New Selfie Shows Curiosity, the Mars Chemist', 'preview': 'The NASA rover performed a special chemistry experiment at the location captured in its newest self-portrait.'}\n",
      "{'_id': ObjectId('63b329a09bf931db7ec7f909'), 'title': \"NASA InSight's 'Mole' Is Out of Sight\", 'preview': \"Now that the heat probe is just below the Martian surface, InSight's arm will scoop some additional soil on top to help it keep digging so it can take Mars' temperature.\"}\n",
      "{'_id': ObjectId('63b329a09bf931db7ec7f90a'), 'title': \"NASA's Push to Save the Mars InSight Lander's Heat Probe\", 'preview': \"The scoop on the end of the spacecraft's robotic arm will be used to 'pin' the mole against the wall of its hole.\"}\n",
      "{'_id': ObjectId('63b329a09bf931db7ec7f90b'), 'title': \"NASA-JPL Names 'Rolling Stones Rock' on Mars\", 'preview': \"NASA's Mars InSight mission honored one of the biggest bands of all time at Pasadena concert.\"}\n",
      "{'_id': ObjectId('63b329a09bf931db7ec7f90c'), 'title': 'NASA Invites Public to Share Excitement of Mars 2020 Perseverance Rover Launch', 'preview': 'There are lots of ways to participate in the historic event, which is targeted for July 30.'}\n",
      "{'_id': ObjectId('63b329a09bf931db7ec7f90d'), 'title': \"Meet the People Behind NASA's Perseverance Rover\", 'preview': \"These are the scientists and engineers who built NASA's next Mars rover and who will guide it to a safe landing in Jezero Crater. \"}\n",
      "{'_id': ObjectId('63b329a09bf931db7ec7f90e'), 'title': \"Nine Finalists Chosen in NASA's Mars 2020 Rover Naming Contest\", 'preview': \"Nine finalists have been chosen in the essay contest for K-12 students across U.S. to name NASA's next Mars rover. Now you can help by voting for your favorite. \"}\n"
     ]
    }
   ],
   "source": [
    "# Display the MongoDB records created above\n",
    "articles = db.mars_scrape.find()\n",
    "for article in articles:\n",
    "    print(article)"
   ]
  }
 ],
 "metadata": {
  "kernelspec": {
   "display_name": "PythonDataOne",
   "language": "python",
   "name": "python3"
  },
  "language_info": {
   "codemirror_mode": {
    "name": "ipython",
    "version": 3
   },
   "file_extension": ".py",
   "mimetype": "text/x-python",
   "name": "python",
   "nbconvert_exporter": "python",
   "pygments_lexer": "ipython3",
   "version": "3.7.7"
  },
  "vscode": {
   "interpreter": {
    "hash": "ffeadad9e6503ab0a318729a49619af2b1f0e62908a55aa7b893bc580c5c8ce1"
   }
  }
 },
 "nbformat": 4,
 "nbformat_minor": 4
}
